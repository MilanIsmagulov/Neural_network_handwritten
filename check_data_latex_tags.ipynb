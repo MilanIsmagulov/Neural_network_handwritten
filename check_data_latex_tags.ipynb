{
 "cells": [
  {
   "cell_type": "code",
   "execution_count": 2,
   "metadata": {},
   "outputs": [
    {
     "name": "stdout",
     "output_type": "stream",
     "text": [
      "Список потерянных объектов сохранен в файл lost_objects.json\n"
     ]
    }
   ],
   "source": [
    "import pickle\n",
    "import numpy as np\n",
    "import json\n",
    "\n",
    "# Загрузите токенизатор из файла\n",
    "with open('tokenizer.pkl', 'rb') as file:\n",
    "    tokenizer = pickle.load(file)\n",
    "\n",
    "# Предположим, что у вас есть массив номеров потерянных объектов\n",
    "lost_object_indices = np.array([0, 4, 5, 6, 7, 8, 9, 25, 31, 32, 33, 34, 35, 36, 37, 38, 39, 40, 41, 42, 43, 44, 45, 46, 47, 48, 49, 50, 52, 53, 55, 56, 60, 75, 157, 158, 159, 160, 169, 170, 173, 174, 175, 176, 177, 178, 179, 182, 183, 184, 186, 194, 195, 196, 197, 198, 199, 200, 201, 202, 203, 204, 205, 206, 207, 208, 209, 210, 211, 212, 213, 214, 215, 216, 217, 218, 219, 220, 221, 222, 223, 224, 225, 226, 227, 228, 229, 230, 231, 232, 234, 235, 236, 237, 238, 241, 242, 243, 245, 247, 248, 249, 251, 253, 254, 256, 261, 264, 265, 269, 272, 277])  # замените это на ваш массив\n",
    "\n",
    "# Получите обратный словарь токенизатора (индекс -> токен)\n",
    "index_to_word = {index: word for word, index in tokenizer.word_index.items()}\n",
    "\n",
    "# Преобразуйте номера потерянных объектов в текстовые представления\n",
    "lost_objects = [index_to_word.get(index, '<unknown>') for index in lost_object_indices]\n",
    "\n",
    "# Сохраните список потерянных объектов в JSON файл\n",
    "with open('lost_objects4.json', 'w', encoding='utf-8') as f:\n",
    "    json.dump(lost_objects, f, ensure_ascii=False, indent=4)\n",
    "\n",
    "print(\"Список потерянных объектов сохранен в файл lost_objects.json\")\n"
   ]
  }
 ],
 "metadata": {
  "kernelspec": {
   "display_name": "Python 3",
   "language": "python",
   "name": "python3"
  },
  "language_info": {
   "codemirror_mode": {
    "name": "ipython",
    "version": 3
   },
   "file_extension": ".py",
   "mimetype": "text/x-python",
   "name": "python",
   "nbconvert_exporter": "python",
   "pygments_lexer": "ipython3",
   "version": "3.12.1"
  }
 },
 "nbformat": 4,
 "nbformat_minor": 2
}
