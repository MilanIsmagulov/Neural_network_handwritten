{
 "cells": [
  {
   "cell_type": "code",
   "execution_count": 2,
   "metadata": {},
   "outputs": [
    {
     "name": "stdout",
     "output_type": "stream",
     "text": [
      "Словарь токенайзера:\n",
      "{'\\\\perp': 1, '\\\\parallel': 2, '\\\\blacksquare': 3, '\\\\alpha': 4, '\\\\pi': 5, '\\\\beta': 6, '=': 7, '\\\\leq': 8, '\\\\geq': 9, '\\\\leftarrow': 10, '\\\\approx': 11, '\\\\sim': 12, '\\\\cong': 13, '\\\\equiv': 14, '\\\\propto': 15, '\\\\subset': 16, '\\\\supset': 17, '\\\\subseteq': 18, '\\\\supseteq': 19, '\\\\simeq': 20, '\\\\asymp': 21, '\\\\doteq': 22, '\\\\lt': 23, '\\\\gt': 24, '\\\\in': 25, '\\\\notin': 26, '\\\\ni': 27, '\\\\Vert': 28, '\\\\vert': 29, '\\\\{': 30, '\\\\frac': 31, '\\\\right': 32, '\\\\left': 33, '\\\\sqrt': 34, '\\\\mbox': 35, '_': 36, '\\\\int': 37, '\\\\sin': 38, ')': 39, '\\\\sum': 40, '^': 41, '(': 42, '\\\\log': 43, '\\\\lim': 44, '\\\\times': 45, '\\\\cos': 46, '[': 47, ']': 48, '+': 49, '-': 50, '\\\\cdot': 51, '\\\\neq': 52, '\\\\infty': 53, '\\\\partial': 54, '\\\\forall': 55, '\\\\exists': 56, '\\\\neg': 57, '\\\\lor': 58, '\\\\land': 59, '\\\\rightarrow': 60, '\\\\uparrow': 61, '\\\\downarrow': 62, '\\\\circ': 63, '\\\\bullet': 64, '\\\\oplus': 65, '\\\\otimes': 66, '\\\\cup': 67, '\\\\cap': 68, '\\\\setminus': 69, '\\\\vdash': 70, '\\\\dashv': 71, '\\\\models': 72, '\\\\mid': 73, '\\\\bowtie': 74, '\\\\prime': 75, '\\\\star': 76, '\\\\dagger': 77, '\\\\ddagger': 78, '\\\\angle': 79, '\\\\measuredangle': 80, '\\\\triangle': 81, '\\\\square': 82, '\\\\diamond': 83, '\\\\lozenge': 84, '\\\\blacktriangle': 85, '\\\\blacktriangledown': 86, '\\\\blacklozenge': 87, '\\\\owns': 88, '\\\\to': 89, '\\\\mapsto': 90, '\\\\longrightarrow': 91, '\\\\longmapsto': 92, '\\\\hookrightarrow': 93, '\\\\leftrightarrow': 94, '\\\\iff': 95, '\\\\implies': 96, '\\\\subsetneq': 97, '\\\\supsetneq': 98, '\\\\vdots': 99, '\\\\ddots': 100, '\\\\aleph': 101, '\\\\beth': 102, '\\\\gimel': 103, '\\\\daleth': 104, '\\\\hbar': 105, '\\\\imath': 106, '\\\\jmath': 107, '\\\\ell': 108, '\\\\wp': 109, '\\\\Re': 110, '\\\\Im': 111, '\\\\top': 112, '\\\\bot': 113, '\\\\emptyset': 114, '\\\\nabla': 115, '\\\\surd': 116, '\\\\triangleleft': 117, '\\\\triangleright': 118, '\\\\Box': 119, '\\\\Diamond': 120, '\\\\vee': 121, '\\\\wedge': 122, '\\\\lfloor': 123, '\\\\rfloor': 124, '\\\\lceil': 125, '\\\\rceil': 126, '\\\\langle': 127, '\\\\rangle': 128, '\\\\}': 129, '\\\\$': 130, '\\\\%': 131, '\\\\&': 132, '\\\\_': 133, '\\\\#': 134, '\\\\text{': 135, '\\\\mathbf{': 136, '\\\\mathbb{': 137, '\\\\mathcal{': 138, '\\\\mathfrak{': 139, '\\\\mathsf{': 140, '\\\\mathtt{': 141, '\\\\textit{': 142, '\\\\textrm{': 143, '\\\\textbf{': 144, '\\\\textsf{': 145, '\\\\texttt{': 146, '\\\\lesssim': 147, '\\\\gtrsim': 148, '\\\\lessapprox': 149, '\\\\gtrapprox': 150, '\\\\mathbb{Z}': 151, '\\\\mathbb{Q}': 152, '\\\\mathbb{R}': 153, '\\\\mathbb{C}': 154, '\\\\overline': 155, '\\\\mathbb{S}': 156, ',': 157, '$': 158, '<': 159, '>': 160, '\\\\ll': 161, '\\\\gg': 162, '\\\\prec': 163, '\\\\succ': 164, '\\\\sqsubset': 165, '\\\\sqsupset': 166, '\\\\sqsubseteq': 167, '\\\\sqsupseteq': 168, '{': 169, '}': 170, '}\\\\': 171, '\\\\Bigg': 172, '\\\\ldots': 173, '.': 174, '/': 175, '\\\\mathrm': 176, '|': 177, '\\\\tan': 178, '\\\\pm': 179, '\\\\Big': 180, '\\\\cdots': 181, '!': 182, '\\\\limits': 183, '\\\\div': 184, \"'\": 185, '\\\\': 186, ';': 187, '\\\\rbrack': 188, '\\\\lbrack': 189, '\\\\dots': 190, '\\\\Pi': 191, '\\\\hbox': 192, '\\\\vtop': 193, '0': 194, '1': 195, '2': 196, '3': 197, '4': 198, '5': 199, '6': 200, '7': 201, '8': 202, '9': 203, 'a': 204, 'b': 205, 'c': 206, 'd': 207, 'e': 208, 'f': 209, 'g': 210, 'h': 211, 'i': 212, 'j': 213, 'k': 214, 'l': 215, 'm': 216, 'n': 217, 'o': 218, 'p': 219, 'q': 220, 'r': 221, 's': 222, 't': 223, 'u': 224, 'v': 225, 'w': 226, 'x': 227, 'y': 228, 'z': 229, 'A': 230, 'B': 231, 'C': 232, 'D': 233, 'E': 234, 'F': 235, 'G': 236, 'H': 237, 'I': 238, 'J': 239, 'K': 240, 'L': 241, 'M': 242, 'N': 243, 'O': 244, 'P': 245, 'Q': 246, 'R': 247, 'S': 248, 'T': 249, 'U': 250, 'V': 251, 'W': 252, 'X': 253, 'Y': 254, 'Z': 255, '\\\\gamma': 256, '\\\\delta': 257, '\\\\epsilon': 258, '\\\\zeta': 259, '\\\\eta': 260, '\\\\theta': 261, '\\\\iota': 262, '\\\\kappa': 263, '\\\\lambda': 264, '\\\\mu': 265, '\\\\nu': 266, '\\\\xi': 267, '\\\\rho': 268, '\\\\sigma': 269, '\\\\tau': 270, '\\\\upsilon': 271, '\\\\phi': 272, '\\\\chi': 273, '\\\\psi': 274, '\\\\omega': 275, '\\\\Gamma': 276, '\\\\Delta': 277, '\\\\Theta': 278, '\\\\Lambda': 279, '\\\\Xi': 280, '\\\\Phi': 281, '\\\\Psi': 282, '\\\\Omega': 283}\n",
      "283\n",
      "\n",
      "Обратное отображение токенов в слова:\n",
      "{1: '\\\\perp', 2: '\\\\parallel', 3: '\\\\blacksquare', 4: '\\\\alpha', 5: '\\\\pi', 6: '\\\\beta', 7: '=', 8: '\\\\leq', 9: '\\\\geq', 10: '\\\\leftarrow', 11: '\\\\approx', 12: '\\\\sim', 13: '\\\\cong', 14: '\\\\equiv', 15: '\\\\propto', 16: '\\\\subset', 17: '\\\\supset', 18: '\\\\subseteq', 19: '\\\\supseteq', 20: '\\\\simeq', 21: '\\\\asymp', 22: '\\\\doteq', 23: '\\\\lt', 24: '\\\\gt', 25: '\\\\in', 26: '\\\\notin', 27: '\\\\ni', 28: '\\\\Vert', 29: '\\\\vert', 30: '\\\\{', 31: '\\\\frac', 32: '\\\\right', 33: '\\\\left', 34: '\\\\sqrt', 35: '\\\\mbox', 36: '_', 37: '\\\\int', 38: '\\\\sin', 39: ')', 40: '\\\\sum', 41: '^', 42: '(', 43: '\\\\log', 44: '\\\\lim', 45: '\\\\times', 46: '\\\\cos', 47: '[', 48: ']', 49: '+', 50: '-', 51: '\\\\cdot', 52: '\\\\neq', 53: '\\\\infty', 54: '\\\\partial', 55: '\\\\forall', 56: '\\\\exists', 57: '\\\\neg', 58: '\\\\lor', 59: '\\\\land', 60: '\\\\rightarrow', 61: '\\\\uparrow', 62: '\\\\downarrow', 63: '\\\\circ', 64: '\\\\bullet', 65: '\\\\oplus', 66: '\\\\otimes', 67: '\\\\cup', 68: '\\\\cap', 69: '\\\\setminus', 70: '\\\\vdash', 71: '\\\\dashv', 72: '\\\\models', 73: '\\\\mid', 74: '\\\\bowtie', 75: '\\\\prime', 76: '\\\\star', 77: '\\\\dagger', 78: '\\\\ddagger', 79: '\\\\angle', 80: '\\\\measuredangle', 81: '\\\\triangle', 82: '\\\\square', 83: '\\\\diamond', 84: '\\\\lozenge', 85: '\\\\blacktriangle', 86: '\\\\blacktriangledown', 87: '\\\\blacklozenge', 88: '\\\\owns', 89: '\\\\to', 90: '\\\\mapsto', 91: '\\\\longrightarrow', 92: '\\\\longmapsto', 93: '\\\\hookrightarrow', 94: '\\\\leftrightarrow', 95: '\\\\iff', 96: '\\\\implies', 97: '\\\\subsetneq', 98: '\\\\supsetneq', 99: '\\\\vdots', 100: '\\\\ddots', 101: '\\\\aleph', 102: '\\\\beth', 103: '\\\\gimel', 104: '\\\\daleth', 105: '\\\\hbar', 106: '\\\\imath', 107: '\\\\jmath', 108: '\\\\ell', 109: '\\\\wp', 110: '\\\\Re', 111: '\\\\Im', 112: '\\\\top', 113: '\\\\bot', 114: '\\\\emptyset', 115: '\\\\nabla', 116: '\\\\surd', 117: '\\\\triangleleft', 118: '\\\\triangleright', 119: '\\\\Box', 120: '\\\\Diamond', 121: '\\\\vee', 122: '\\\\wedge', 123: '\\\\lfloor', 124: '\\\\rfloor', 125: '\\\\lceil', 126: '\\\\rceil', 127: '\\\\langle', 128: '\\\\rangle', 129: '\\\\}', 130: '\\\\$', 131: '\\\\%', 132: '\\\\&', 133: '\\\\_', 134: '\\\\#', 135: '\\\\text{', 136: '\\\\mathbf{', 137: '\\\\mathbb{', 138: '\\\\mathcal{', 139: '\\\\mathfrak{', 140: '\\\\mathsf{', 141: '\\\\mathtt{', 142: '\\\\textit{', 143: '\\\\textrm{', 144: '\\\\textbf{', 145: '\\\\textsf{', 146: '\\\\texttt{', 147: '\\\\lesssim', 148: '\\\\gtrsim', 149: '\\\\lessapprox', 150: '\\\\gtrapprox', 151: '\\\\mathbb{Z}', 152: '\\\\mathbb{Q}', 153: '\\\\mathbb{R}', 154: '\\\\mathbb{C}', 155: '\\\\overline', 156: '\\\\mathbb{S}', 157: ',', 158: '$', 159: '<', 160: '>', 161: '\\\\ll', 162: '\\\\gg', 163: '\\\\prec', 164: '\\\\succ', 165: '\\\\sqsubset', 166: '\\\\sqsupset', 167: '\\\\sqsubseteq', 168: '\\\\sqsupseteq', 169: '{', 170: '}', 171: '}\\\\', 172: '\\\\Bigg', 173: '\\\\ldots', 174: '.', 175: '/', 176: '\\\\mathrm', 177: '|', 178: '\\\\tan', 179: '\\\\pm', 180: '\\\\Big', 181: '\\\\cdots', 182: '!', 183: '\\\\limits', 184: '\\\\div', 185: \"'\", 186: '\\\\', 187: ';', 188: '\\\\rbrack', 189: '\\\\lbrack', 190: '\\\\dots', 191: '\\\\Pi', 192: '\\\\hbox', 193: '\\\\vtop', 194: '0', 195: '1', 196: '2', 197: '3', 198: '4', 199: '5', 200: '6', 201: '7', 202: '8', 203: '9', 204: 'a', 205: 'b', 206: 'c', 207: 'd', 208: 'e', 209: 'f', 210: 'g', 211: 'h', 212: 'i', 213: 'j', 214: 'k', 215: 'l', 216: 'm', 217: 'n', 218: 'o', 219: 'p', 220: 'q', 221: 'r', 222: 's', 223: 't', 224: 'u', 225: 'v', 226: 'w', 227: 'x', 228: 'y', 229: 'z', 230: 'A', 231: 'B', 232: 'C', 233: 'D', 234: 'E', 235: 'F', 236: 'G', 237: 'H', 238: 'I', 239: 'J', 240: 'K', 241: 'L', 242: 'M', 243: 'N', 244: 'O', 245: 'P', 246: 'Q', 247: 'R', 248: 'S', 249: 'T', 250: 'U', 251: 'V', 252: 'W', 253: 'X', 254: 'Y', 255: 'Z', 256: '\\\\gamma', 257: '\\\\delta', 258: '\\\\epsilon', 259: '\\\\zeta', 260: '\\\\eta', 261: '\\\\theta', 262: '\\\\iota', 263: '\\\\kappa', 264: '\\\\lambda', 265: '\\\\mu', 266: '\\\\nu', 267: '\\\\xi', 268: '\\\\rho', 269: '\\\\sigma', 270: '\\\\tau', 271: '\\\\upsilon', 272: '\\\\phi', 273: '\\\\chi', 274: '\\\\psi', 275: '\\\\omega', 276: '\\\\Gamma', 277: '\\\\Delta', 278: '\\\\Theta', 279: '\\\\Lambda', 280: '\\\\Xi', 281: '\\\\Phi', 282: '\\\\Psi', 283: '\\\\Omega'}\n"
     ]
    }
   ],
   "source": [
    "import pickle\n",
    "\n",
    "# Загрузка токенайзера из файла\n",
    "with open('./tokenizer.pkl', 'rb') as handle:\n",
    "    tokenizer = pickle.load(handle)\n",
    "\n",
    "# Просмотр содержимого токенайзера\n",
    "print(\"Словарь токенайзера:\")\n",
    "print(tokenizer.word_index)\n",
    "print(len(tokenizer.word_index))\n",
    "print(\"\\nОбратное отображение токенов в слова:\")\n",
    "print(tokenizer.index_word)"
   ]
  }
 ],
 "metadata": {
  "kernelspec": {
   "display_name": "Python 3",
   "language": "python",
   "name": "python3"
  },
  "language_info": {
   "codemirror_mode": {
    "name": "ipython",
    "version": 3
   },
   "file_extension": ".py",
   "mimetype": "text/x-python",
   "name": "python",
   "nbconvert_exporter": "python",
   "pygments_lexer": "ipython3",
   "version": "3.12.1"
  }
 },
 "nbformat": 4,
 "nbformat_minor": 2
}
