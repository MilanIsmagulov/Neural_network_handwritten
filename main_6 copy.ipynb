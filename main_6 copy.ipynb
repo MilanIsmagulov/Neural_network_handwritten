{
 "cells": [
  {
   "cell_type": "markdown",
   "metadata": {},
   "source": [
    "# Глава 1. Предварительная обработка и аннотирование"
   ]
  },
  {
   "cell_type": "code",
   "execution_count": 217,
   "metadata": {},
   "outputs": [],
   "source": [
    "import tensorflow as tf\n",
    "from tensorflow.keras.models import Model\n",
    "from tensorflow.keras.layers import Input, Conv2D, MaxPooling2D, Flatten, Dense, Dropout, BatchNormalization, LSTM, TimeDistributed, Embedding, RepeatVector\n",
    "from tensorflow.keras.optimizers import Adam\n",
    "from tensorflow.keras.preprocessing.sequence import pad_sequences\n",
    "from tensorflow.keras.preprocessing.text import Tokenizer\n",
    "from tensorflow.keras.callbacks import ModelCheckpoint, EarlyStopping\n",
    "from sklearn.metrics import classification_report, accuracy_score\n",
    "import numpy as np\n",
    "import cv2\n",
    "import os\n",
    "import matplotlib.pyplot as plt\n",
    "from lxml import etree\n",
    "from sklearn.model_selection import train_test_split\n",
    "import pickle\n",
    "from datetime import datetime\n",
    "import xml.etree.ElementTree as ET\n",
    "from pylatexenc.latexwalker import LatexWalker, LatexMacroNode, LatexCharsNode, LatexEnvironmentNode\n",
    "from keras.preprocessing.sequence import pad_sequences"
   ]
  },
  {
   "cell_type": "code",
   "execution_count": 218,
   "metadata": {},
   "outputs": [],
   "source": [
    "# Укажите желаемый размер изображений\n",
    "desired_width = 256\n",
    "desired_height = 256"
   ]
  },
  {
   "cell_type": "code",
   "execution_count": 219,
   "metadata": {},
   "outputs": [],
   "source": [
    "# Функция для загрузки и предобработки изображений\n",
    "def load_and_preprocess_images(folder, width, height):\n",
    "    def preprocess_image(img, width, height):\n",
    "        # Сглаживание изображения\n",
    "        img = cv2.GaussianBlur(img, (5, 5), 0)\n",
    "        # Адаптивное пороговое значение\n",
    "        img = cv2.adaptiveThreshold(img, 255, cv2.ADAPTIVE_THRESH_GAUSSIAN_C, cv2.THRESH_BINARY, 11, 2)\n",
    "        # Изменение размера изображения\n",
    "        img = cv2.resize(img, (width, height))\n",
    "        return img\n",
    "\n",
    "    images = {}\n",
    "    for filename in os.listdir(folder):\n",
    "        if filename.endswith('.png'):\n",
    "            img = cv2.imread(os.path.join(folder, filename), cv2.IMREAD_GRAYSCALE)\n",
    "            if img is not None:\n",
    "                img = preprocess_image(img, width, height)\n",
    "                images[os.path.splitext(filename)[0]] = img\n",
    "            else:\n",
    "                print(f\"Failed to read image: {filename}\")\n",
    "    return images"
   ]
  },
  {
   "cell_type": "code",
   "execution_count": 220,
   "metadata": {},
   "outputs": [],
   "source": [
    "# Функция для парсинга InkML файлов и извлечения LaTeX-аннотаций\n",
    "def parse_inkml(file_path):\n",
    "    try:\n",
    "        tree = etree.parse(file_path, etree.XMLParser(recover=True))\n",
    "        root = tree.getroot()\n",
    "        namespace = {'ink': 'http://www.w3.org/2003/InkML'}\n",
    "        \n",
    "        # Извлечение всех аннотаций LaTeX\n",
    "        latex_expressions = []\n",
    "        for annotation in root.findall('.//ink:annotation', namespaces=namespace):\n",
    "            if annotation.attrib.get('type') == 'truth':\n",
    "                latex_expressions.append(annotation.text)\n",
    "        if not latex_expressions:\n",
    "            print(f\"No LaTeX annotations found in {file_path}\")\n",
    "        return latex_expressions\n",
    "    except etree.XMLSyntaxError as e:\n",
    "        print(f\"Error parsing {file_path}: {e}\")\n",
    "        return None\n",
    "    except Exception as e:\n",
    "        print(f\"Unexpected error parsing {file_path}: {e}\")\n",
    "        return None"
   ]
  },
  {
   "cell_type": "code",
   "execution_count": 221,
   "metadata": {},
   "outputs": [],
   "source": [
    "# Функция для загрузки аннотаций из всех InkML файлов в папке\n",
    "def load_annotations(folder):\n",
    "    annotations = {}\n",
    "    for filename in os.listdir(folder):\n",
    "        if filename.endswith('.inkml'):\n",
    "            file_path = os.path.join(folder, filename)\n",
    "            latex_expressions = parse_inkml(file_path)\n",
    "            if latex_expressions:\n",
    "                annotations[os.path.splitext(filename)[0]] = latex_expressions[0]  # Assuming only one LaTeX annotation per file\n",
    "    return annotations"
   ]
  },
  {
   "cell_type": "code",
   "execution_count": 222,
   "metadata": {},
   "outputs": [
    {
     "name": "stdout",
     "output_type": "stream",
     "text": [
      "Loaded 10979 training images\n",
      "Loaded 10979 training annotations\n",
      "Loaded 1199 testing images\n",
      "Loaded 1199 testing annotations\n"
     ]
    }
   ],
   "source": [
    "# Пути к папкам с изображениями и аннотациями\n",
    "images_folder_train = './data_2019/1_images_train'\n",
    "annotations_folder_train = './data_2019/2_annotation_train'\n",
    "images_folder_test = './data_2019/3_images_test'\n",
    "annotations_folder_test = './data_2019/4_annotation_test'\n",
    "\n",
    "# Загрузка изображений и аннотаций для тренировочных данных\n",
    "images_train = load_and_preprocess_images(images_folder_train, desired_width, desired_height)\n",
    "print(f\"Loaded {len(images_train)} training images\")\n",
    "\n",
    "annotations_train = load_annotations(annotations_folder_train)\n",
    "print(f\"Loaded {len(annotations_train)} training annotations\")\n",
    "\n",
    "# Загрузка изображений и аннотаций для тестовых данных\n",
    "images_test = load_and_preprocess_images(images_folder_test, desired_width, desired_height)\n",
    "print(f\"Loaded {len(images_test)} testing images\")\n",
    "\n",
    "annotations_test = load_annotations(annotations_folder_test)\n",
    "print(f\"Loaded {len(annotations_test)} testing annotations\")"
   ]
  },
  {
   "cell_type": "code",
   "execution_count": 223,
   "metadata": {},
   "outputs": [],
   "source": [
    "# Объединение изображений и аннотаций для тренировочных данных\n",
    "data_train = []\n",
    "for key in images_train:\n",
    "    if key in annotations_train:\n",
    "        data_train.append((images_train[key], annotations_train[key]))\n",
    "\n",
    "# Объединение изображений и аннотаций для тестовых данных\n",
    "data_test = []\n",
    "for key in images_test:\n",
    "    if key in annotations_test:\n",
    "        data_test.append((images_test[key], annotations_test[key]))"
   ]
  },
  {
   "cell_type": "code",
   "execution_count": null,
   "metadata": {},
   "outputs": [],
   "source": [
    "# Пример вывода данных\n",
    "print(\"Training Data:\")\n",
    "for image, annotation in data_train[:5]:  # Print first 5 examples\n",
    "    print(f\"Image Shape: {image.shape}, Annotation: {annotation}\")\n",
    "\n",
    "print(\"\\nTesting Data:\")\n",
    "for image, annotation in data_test[:5]:  # Print first 5 examples\n",
    "    print(f\"Image Shape: {image.shape}, Annotation: {annotation}\")"
   ]
  },
  {
   "cell_type": "code",
   "execution_count": null,
   "metadata": {},
   "outputs": [],
   "source": [
    "# Вывод первых 5 пар изображение-аннотация для проверки тренировочных данных\n",
    "print(\"Training Data:\")\n",
    "for i in range(min(5, len(data_train))):  # Ensure we do not go out of range\n",
    "    img, annotation = data_train[i]\n",
    "    plt.imshow(img, cmap='gray')\n",
    "    plt.title(annotation)\n",
    "    plt.show()\n",
    "\n",
    "# Вывод первых 5 пар изображение-аннотация для проверки тестовых данных\n",
    "print(\"Testing Data:\")\n",
    "for i in range(min(5, len(data_test))):  # Ensure we do not go out of range\n",
    "    img, annotation = data_test[i]\n",
    "    plt.imshow(img, cmap='gray')\n",
    "    plt.title(annotation)\n",
    "    plt.show()"
   ]
  },
  {
   "cell_type": "code",
   "execution_count": 226,
   "metadata": {},
   "outputs": [],
   "source": [
    "# Определение ожидаемой формы изображений\n",
    "img_shape = data_train[0][0].shape\n",
    "\n",
    "# Преобразование изображений и аннотаций в массивы numpy для тренировочных данных\n",
    "X_train = np.stack([x[0] for x in data_train])\n",
    "y_train = [x[1] for x in data_train]\n",
    "\n",
    "# Преобразование изображений и аннотаций в массивы numpy для тестовых данных\n",
    "X_test = np.stack([x[0] for x in data_test])\n",
    "y_test = [x[1] for x in data_test]"
   ]
  },
  {
   "cell_type": "code",
   "execution_count": 227,
   "metadata": {},
   "outputs": [],
   "source": [
    "# Масштабирование значений пикселей до диапазона [0, 1]\n",
    "X_train = X_train.astype('float32') / 255.0\n",
    "X_test = X_test.astype('float32') / 255.0"
   ]
  },
  {
   "cell_type": "code",
   "execution_count": null,
   "metadata": {},
   "outputs": [],
   "source": [
    "# Проверка размеров массивов\n",
    "print(\"X_train shape:\", X_train.shape)\n",
    "print(\"X_test shape:\", X_test.shape)\n",
    "print(\"y_train shape:\", len(y_train))\n",
    "print(\"y_test shape:\", len(y_test))"
   ]
  },
  {
   "cell_type": "code",
   "execution_count": 229,
   "metadata": {},
   "outputs": [],
   "source": [
    "import re\n",
    "from tensorflow.keras.preprocessing.text import Tokenizer\n",
    "from tensorflow.keras.preprocessing.sequence import pad_sequences\n",
    "import tensorflow as tf\n",
    "from pylatexenc.latexwalker import LatexWalker, LatexCharsNode, LatexMacroNode, LatexEnvironmentNode\n",
    "import pickle"
   ]
  },
  {
   "cell_type": "code",
   "execution_count": 230,
   "metadata": {},
   "outputs": [],
   "source": [
    "# Пример аннотированных LaTeX формул\n",
    "latex_examples = y_train"
   ]
  },
  {
   "cell_type": "code",
   "execution_count": 231,
   "metadata": {},
   "outputs": [],
   "source": [
    "# Создаем базовый словарь LaTeX символов и операторов\n",
    "latex_tokens = [\n",
    "    '\\\\frac', '\\\\right', '\\\\left', '\\\\sqrt', '\\\\mbox', '_', '\\\\int', '\\\\sin', ')', \n",
    "    '\\\\sum', '^', '(', '\\\\log', '\\\\lim', '\\\\alpha', '\\\\times', '\\\\pi', '\\\\beta', \n",
    "    '\\\\cos', '[', ']', '+', '-', '=', '\\\\leq', '\\\\geq', '\\\\cdot', '\\\\neq', \n",
    "    '\\\\infty', '\\\\partial', '\\\\forall', '\\\\exists', '\\\\neg', '\\\\lor', '\\\\land', \n",
    "    '\\\\rightarrow', '\\\\leftarrow', '\\\\uparrow', '\\\\downarrow', '\\\\circ', '\\\\bullet', \n",
    "    '\\\\perp', '\\\\parallel', '\\\\oplus', '\\\\otimes', '\\\\approx', '\\\\sim', '\\\\cong', \n",
    "    '\\\\equiv', '\\\\propto', '\\\\subset', '\\\\supset', '\\\\subseteq', '\\\\supseteq', \n",
    "    '\\\\cup', '\\\\cap', '\\\\setminus', '\\\\vdash', '\\\\dashv', '\\\\models', '\\\\mid', \n",
    "    '\\\\parallel', '\\\\perp', '\\\\simeq', '\\\\asymp', '\\\\doteq', '\\\\bowtie', '\\\\lt', \n",
    "    '\\\\gt', '\\\\prime', '\\\\star', '\\\\dagger', '\\\\ddagger', '\\\\angle', '\\\\measuredangle', \n",
    "    '\\\\triangle', '\\\\square', '\\\\diamond', '\\\\lozenge', '\\\\blacktriangle', \n",
    "    '\\\\blacktriangledown', '\\\\blacksquare', '\\\\blacklozenge', '\\\\in', '\\\\notin', \n",
    "    '\\\\ni', '\\\\owns', '\\\\to', '\\\\mapsto', '\\\\longrightarrow', '\\\\longmapsto', \n",
    "    '\\\\leftarrow', '\\\\hookrightarrow', '\\\\leftrightarrow', '\\\\iff', '\\\\implies', \n",
    "    '\\\\subsetneq', '\\\\supsetneq', '\\\\vdots', '\\\\ddots', '\\\\aleph', '\\\\beth', \n",
    "    '\\\\gimel', '\\\\daleth', '\\\\hbar', '\\\\imath', '\\\\jmath', '\\\\ell', '\\\\wp', \n",
    "    '\\\\Re', '\\\\Im', '\\\\top', '\\\\bot', '\\\\emptyset', '\\\\nabla', '\\\\surd', \n",
    "    '\\\\triangleleft', '\\\\triangleright', '\\\\Box', '\\\\Diamond', '\\\\vee', '\\\\wedge', \n",
    "    '\\\\lfloor', '\\\\rfloor', '\\\\lceil', '\\\\rceil', '\\\\langle', '\\\\rangle', \n",
    "    '\\\\Vert', '\\\\vert', '\\\\}', '\\\\{', '\\\\$', '\\\\%', '\\\\&', '\\\\_', '\\\\#', \n",
    "    '\\\\text{', '\\\\mathbf{', '\\\\mathbb{', '\\\\mathcal{', '\\\\mathfrak{', '\\\\mathsf{', \n",
    "    '\\\\mathtt{', '\\\\textit{', '\\\\textrm{', '\\\\textbf{', '\\\\textsf{', '\\\\texttt{', '\\\\lesssim', '\\\\gtrsim',\n",
    "    '\\\\lessapprox', '\\\\gtrapprox', '\\\\mathbb{Z}', '\\\\mathbb{Q}', '\\\\mathbb{R}', '\\\\mathbb{C}', '\\\\overline', \n",
    "    '\\\\blacksquare', '\\\\blacksquare', '\\\\mathbb{S}', '\\\\vert', '\\\\Vert', ',' , '$', \n",
    "    '<', '>', '=', '\\\\leq', '\\\\geq', '\\\\ll', '\\\\gg', '\\\\prec', '\\\\succ', '\\\\sim', '\\\\approx', \n",
    "    '\\\\cong', '\\\\simeq', '\\\\asymp', '\\\\doteq', '\\\\equiv', '\\\\subset', '\\\\supset', '\\\\subseteq', \n",
    "    '\\\\supseteq', '\\\\sqsubset', '\\\\sqsupset', '\\\\sqsubseteq', '\\\\sqsupseteq', '\\\\in', \n",
    "    '\\\\ni', '\\\\notin', '\\\\propto', '\\\\parallel', '\\\\perp', '{', '}', '\\\\{', '}\\\\' ,\n",
    "    '\\\\Bigg','\\\\ldots', '.' , '/', '\\\\mathrm' , '|', '\\\\tan', '\\\\pm', '\\\\Big', '\\\\cdots', '!' , \n",
    "    '\\\\limits', '\\\\div', '\\'', '\\\\', '\\\\gt', ';', '\\\\lt', '\\\\rbrack', '\\\\lbrack', '\\\\dots', '\\\\Pi', '\\\\hbox', '\\\\vtop'\n",
    "]"
   ]
  },
  {
   "cell_type": "code",
   "execution_count": 232,
   "metadata": {},
   "outputs": [],
   "source": [
    "# Добавляем цифры, латинские и греческие буквы\n",
    "digits = list('0123456789')\n",
    "latin_lowercase = list('abcdefghijklmnopqrstuvwxyz')\n",
    "latin_uppercase = list('ABCDEFGHIJKLMNOPQRSTUVWXYZ')\n",
    "greek_letters = ['alpha', 'beta', 'gamma', 'delta', 'epsilon', 'zeta', 'eta', \n",
    "                 'theta', 'iota', 'kappa', 'lambda', 'mu', 'nu', 'xi', \n",
    "                 'pi', 'rho', 'sigma', 'tau', 'upsilon', 'phi', 'chi', 'psi', 'omega']\n",
    "greek_letters2 = ['gamma', 'delta', 'theta', 'lambda', 'xi', 'phi', 'psi', 'omega']\n",
    "greek_lowercase = [f'\\\\{letter}' for letter in greek_letters]\n",
    "greek_uppercase = [f'\\\\{letter.capitalize()}' for letter in greek_letters2]"
   ]
  },
  {
   "cell_type": "code",
   "execution_count": 233,
   "metadata": {},
   "outputs": [],
   "source": [
    "latex_tokens += digits + latin_lowercase + latin_uppercase + greek_lowercase + greek_uppercase"
   ]
  },
  {
   "cell_type": "code",
   "execution_count": null,
   "metadata": {},
   "outputs": [],
   "source": [
    "print(latex_tokens)"
   ]
  },
  {
   "cell_type": "code",
   "execution_count": 235,
   "metadata": {},
   "outputs": [],
   "source": [
    "# Создаем токенизатор\n",
    "tokenizer = Tokenizer(lower=False, filters='')\n",
    "tokenizer.fit_on_texts(latex_tokens)\n",
    "\n",
    "\n",
    "# Функция для токенизации LaTeX формулы\n",
    "def custom_latex_tokenizer(formula):\n",
    "    tokens = re.findall(r'\\\\[a-zA-Z]+|[a-zA-Z0-9]|[^\\s]', formula)\n",
    "    return tokens"
   ]
  },
  {
   "cell_type": "code",
   "execution_count": 236,
   "metadata": {},
   "outputs": [],
   "source": [
    "# Применение токенизатора ко всем примерам\n",
    "tokenized_examples = [custom_latex_tokenizer(formula) for formula in latex_examples]\n",
    "\n",
    "# Преобразование текстов в числовые последовательности\n",
    "encoded_examples = tokenizer.texts_to_sequences(tokenized_examples)\n",
    "\n",
    "# Приведение последовательностей к одинаковой длине\n",
    "max_length = max(len(seq) for seq in encoded_examples)\n",
    "padded_examples = pad_sequences(encoded_examples, padding='post', maxlen=max_length)\n",
    "\n",
    "# Обратное преобразование числовых последовательностей в текст\n",
    "reverse_word_index = {index: word for word, index in tokenizer.word_index.items()}\n",
    "decoded_examples = [[reverse_word_index.get(index, '') for index in sequence] for sequence in padded_examples]"
   ]
  },
  {
   "cell_type": "code",
   "execution_count": 237,
   "metadata": {},
   "outputs": [],
   "source": [
    "# Сохранение токенизатора\n",
    "with open('tokenizer.pkl', 'wb') as file:\n",
    "    pickle.dump(tokenizer, file)"
   ]
  },
  {
   "cell_type": "code",
   "execution_count": 238,
   "metadata": {},
   "outputs": [],
   "source": [
    "# Запись словаря токенов в файл\n",
    "with open('latex_token.txt', 'w') as f:\n",
    "    for word, index in tokenizer.word_index.items():\n",
    "        f.write(f\"{word}: {index}\\n\")"
   ]
  },
  {
   "cell_type": "code",
   "execution_count": null,
   "metadata": {},
   "outputs": [],
   "source": [
    "# Печать закодированных последовательностей\n",
    "print(\"Tokenized and Encoded Sequences:\")\n",
    "for original, tokenized, encoded in zip(latex_examples, tokenized_examples, encoded_examples):\n",
    "    print(f\"Original: {original}\")\n",
    "    print(f\"Tokenized: {tokenized}\")\n",
    "    print(f\"Encoded: {encoded}\")"
   ]
  },
  {
   "cell_type": "code",
   "execution_count": null,
   "metadata": {},
   "outputs": [],
   "source": [
    "# Печать декодированных последовательностей\n",
    "with open('check_latex_decoded.txt', 'w') as f:\n",
    "    print(\"\\nDecoded Sequences:\")\n",
    "    for decoded in decoded_examples:\n",
    "        print(' '.join(decoded))\n",
    "        f.write(''.join(decoded)+'\\n')\n",
    "\n",
    "# 1. Создаем пустой массив\n",
    "data_array = []\n",
    "\n",
    "# 2. Читаем текстовый файл \"check_latex_decoded.txt\"\n",
    "with open(\"check_latex_decoded.txt\", \"r\", encoding=\"utf-8\") as file:\n",
    "    content = file.read()\n",
    "\n",
    "# 3. Разделяем содержимое по символу новой строки и добавляем в массив\n",
    "data_array = content.split('\\n')\n",
    "\n",
    "# Выводим результат\n",
    "for i, line in enumerate(data_array):\n",
    "    print(f\"Line {i+1}: {line}\")"
   ]
  },
  {
   "cell_type": "code",
   "execution_count": 247,
   "metadata": {},
   "outputs": [
    {
     "name": "stdout",
     "output_type": "stream",
     "text": [
      "Comparison complete.\n"
     ]
    }
   ],
   "source": [
    "# Сравнение парсированных и декодированных формул без пробелов\n",
    "# Функция для удаления пробелов из LaTeX формул\n",
    "def remove_spaces(formula):\n",
    "    return re.sub(r'\\s+','', formula)\n",
    "\n",
    "with open(\"check_formula.txt\", \"w\", encoding=\"utf-8\") as result_file:\n",
    "    for filename, original_formula in annotations_train.items():\n",
    "        original_formula_no_spaces = remove_spaces(original_formula)\n",
    "        decoded_formula_no_spaces = remove_spaces(data_array.pop(0))  # Pop removes the first element and returns it\n",
    "\n",
    "        if original_formula_no_spaces != decoded_formula_no_spaces:\n",
    "            print(f\"Mismatch in file {filename}.inkml\")\n",
    "            print(f\"Original: {original_formula_no_spaces}\")\n",
    "            print(f\"Decoded: {decoded_formula_no_spaces}\")\n",
    "            result_file.write(filename+'.\\n'+original_formula_no_spaces+'.\\n'+decoded_formula_no_spaces+'.\\n')\n",
    "    print(\"Comparison complete.\")"
   ]
  },
  {
   "cell_type": "code",
   "execution_count": 248,
   "metadata": {},
   "outputs": [],
   "source": [
    "# Функция для создания модели\n",
    "def create_model(input_shape, num_classes):\n",
    "    inputs = Input(shape=input_shape)\n",
    "\n",
    "    # CNN часть\n",
    "    x = Conv2D(32, (3, 3), activation='relu', padding='same')(inputs)\n",
    "    x = BatchNormalization()(x)\n",
    "    x = MaxPooling2D((2, 2))(x)\n",
    "    x = Dropout(0.25)(x)\n",
    "\n",
    "    x = Conv2D(64, (3, 3), activation='relu', padding='same')(x)\n",
    "    x = BatchNormalization()(x)\n",
    "    x = MaxPooling2D((2, 2))(x)\n",
    "    x = Dropout(0.25)(x)\n",
    "\n",
    "    x = Conv2D(128, (3, 3), activation='relu', padding='same')(x)\n",
    "    x = BatchNormalization()(x)\n",
    "    x = MaxPooling2D((2, 2))(x)\n",
    "    x = Dropout(0.25)(x)\n",
    "\n",
    "    x = Flatten()(x)\n",
    "    x = Dense(256, activation='relu')(x)\n",
    "    x = Dropout(0.5)(x)\n",
    "\n",
    "    # RNN часть\n",
    "    x = RepeatVector(max_length)(x)\n",
    "    x = LSTM(128, return_sequences=True)(x)\n",
    "    x = TimeDistributed(Dense(num_classes, activation='softmax'))(x)\n",
    "\n",
    "    model = Model(inputs, x)\n",
    "    model.compile(optimizer=Adam(learning_rate=0.001), loss='categorical_crossentropy', metrics=['accuracy'])\n",
    "    \n",
    "    return model"
   ]
  },
  {
   "cell_type": "code",
   "execution_count": null,
   "metadata": {},
   "outputs": [],
   "source": [
    "# Создание и компиляция модели\n",
    "model = create_model((desired_width, desired_height, 1), num_classes)"
   ]
  },
  {
   "cell_type": "code",
   "execution_count": 14,
   "metadata": {},
   "outputs": [],
   "source": [
    "# Определение коллбеков\n",
    "checkpoint = ModelCheckpoint('best_model.keras', monitor='val_loss', save_best_only=True, mode='min')\n",
    "early_stopping = EarlyStopping(monitor='val_loss', patience=10, mode='min')\n"
   ]
  },
  {
   "cell_type": "code",
   "execution_count": null,
   "metadata": {},
   "outputs": [],
   "source": [
    "# Обучение модели\n",
    "history = model.fit(\n",
    "    X_train, y_train_encoded,\n",
    "    validation_data=(X_test, y_test_encoded),\n",
    "    epochs=5,\n",
    "    batch_size=32,\n",
    "    callbacks=[checkpoint, early_stopping]\n",
    ")"
   ]
  }
 ],
 "metadata": {
  "kernelspec": {
   "display_name": "Python 3",
   "language": "python",
   "name": "python3"
  },
  "language_info": {
   "codemirror_mode": {
    "name": "ipython",
    "version": 3
   },
   "file_extension": ".py",
   "mimetype": "text/x-python",
   "name": "python",
   "nbconvert_exporter": "python",
   "pygments_lexer": "ipython3",
   "version": "3.12.1"
  }
 },
 "nbformat": 4,
 "nbformat_minor": 2
}
