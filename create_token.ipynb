{
 "cells": [
  {
   "cell_type": "code",
   "execution_count": 9,
   "metadata": {},
   "outputs": [],
   "source": [
    "import os\n",
    "import pickle\n",
    "import xml.etree.ElementTree as ET\n",
    "from tensorflow.keras.preprocessing.text import Tokenizer"
   ]
  },
  {
   "cell_type": "code",
   "execution_count": 10,
   "metadata": {},
   "outputs": [],
   "source": [
    "# Функция для извлечения аннотаций из InkML файлов\n",
    "def extract_annotations(inkml_dir):\n",
    "    annotations = []\n",
    "    for filename in os.listdir(inkml_dir):\n",
    "        if filename.endswith('.inkml'):\n",
    "            tree = ET.parse(os.path.join(inkml_dir, filename))\n",
    "            root = tree.getroot()\n",
    "            for annotation in root.findall(\"{http://www.w3.org/2003/InkML}annotation\"):\n",
    "                if annotation.attrib['type'] == 'truth':\n",
    "                    annotations.append(annotation.text.strip())\n",
    "    return annotations\n"
   ]
  },
  {
   "cell_type": "code",
   "execution_count": 11,
   "metadata": {},
   "outputs": [],
   "source": [
    "# Путь к директории с InkML файлами\n",
    "inkml_dir = './data_2019/2_annotation_train'  # Измените путь на нужный"
   ]
  },
  {
   "cell_type": "code",
   "execution_count": 12,
   "metadata": {},
   "outputs": [
    {
     "name": "stdout",
     "output_type": "stream",
     "text": [
      "Извлечено 10979 аннотаций\n"
     ]
    }
   ],
   "source": [
    "# Извлечение аннотаций\n",
    "annotations = extract_annotations(inkml_dir)\n",
    "print(f\"Извлечено {len(annotations)} аннотаций\")"
   ]
  },
  {
   "cell_type": "code",
   "execution_count": 13,
   "metadata": {},
   "outputs": [],
   "source": [
    "# Создание и обучение токенайзера\n",
    "tokenizer = Tokenizer(char_level=False)\n",
    "tokenizer.fit_on_texts(annotations)"
   ]
  },
  {
   "cell_type": "code",
   "execution_count": 14,
   "metadata": {},
   "outputs": [],
   "source": [
    "\n",
    "# Сохранение токенайзера\n",
    "tokenizer_path = './best_model_tokenizer.pickle'\n",
    "with open(tokenizer_path, 'wb') as handle:\n",
    "    pickle.dump(tokenizer, handle, protocol=pickle.HIGHEST_PROTOCOL)"
   ]
  },
  {
   "cell_type": "code",
   "execution_count": 15,
   "metadata": {},
   "outputs": [
    {
     "name": "stdout",
     "output_type": "stream",
     "text": [
      "Токенайзер сохранен по пути: ./best_model_tokenizer.pickle\n"
     ]
    }
   ],
   "source": [
    "print(f\"Токенайзер сохранен по пути: {tokenizer_path}\")"
   ]
  }
 ],
 "metadata": {
  "kernelspec": {
   "display_name": "Python 3",
   "language": "python",
   "name": "python3"
  },
  "language_info": {
   "codemirror_mode": {
    "name": "ipython",
    "version": 3
   },
   "file_extension": ".py",
   "mimetype": "text/x-python",
   "name": "python",
   "nbconvert_exporter": "python",
   "pygments_lexer": "ipython3",
   "version": "3.12.1"
  }
 },
 "nbformat": 4,
 "nbformat_minor": 2
}
