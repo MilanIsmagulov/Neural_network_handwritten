{
 "cells": [
  {
   "cell_type": "code",
   "execution_count": null,
   "metadata": {},
   "outputs": [],
   "source": [
    "import os\n",
    "import json\n",
    "from lxml import etree\n",
    "import matplotlib.pyplot as plt\n",
    "from matplotlib.font_manager import FontProperties\n",
    "\n",
    "def parse_inkml(file_path):\n",
    "    tree = etree.parse(file_path)\n",
    "    root = tree.getroot()\n",
    "    namespace = {'inkml': 'http://www.w3.org/2003/InkML'}\n",
    "    truth = root.xpath('//inkml:annotation[@type=\"truth\"]', namespaces=namespace)[0].text\n",
    "    return truth\n",
    "\n",
    "def generate_image(text, output_path):\n",
    "    fig, ax = plt.subplots(figsize=(10, 3))\n",
    "    ax.text(0.5, 0.5, text, fontsize=20, ha='center', va='center')\n",
    "    ax.axis('off')\n",
    "    plt.savefig(output_path, bbox_inches='tight', pad_inches=0.1)\n",
    "    plt.close()\n",
    "\n",
    "def process_inkml_files(input_folder, output_folder, json_file):\n",
    "    if not os.path.exists(output_folder):\n",
    "        os.makedirs(output_folder)\n",
    "\n",
    "    data = {}\n",
    "\n",
    "    for filename in os.listdir(input_folder):\n",
    "        if filename.endswith('.inkml'):\n",
    "            inkml_path = os.path.join(input_folder, filename)\n",
    "            truth = parse_inkml(inkml_path)\n",
    "            \n",
    "            image_filename = f\"{os.path.splitext(filename)[0]}.png\"\n",
    "            image_path = os.path.join(output_folder, image_filename)\n",
    "            \n",
    "            generate_image(truth, image_path)\n",
    "            \n",
    "            data[image_filename] = truth\n",
    "\n",
    "    with open(json_file, 'w') as f:\n",
    "        json.dump(data, f, indent=2)\n",
    "\n",
    "    print(f\"Processed {len(data)} files. JSON data saved to {json_file}\")\n",
    "\n",
    "# Пути к папкам и файлам\n",
    "input_folder = 'path/to/inkml/files'\n",
    "output_folder = 'path/to/output/images'\n",
    "json_file = 'path/to/output/data.json'\n",
    "\n",
    "# Запуск обработки\n",
    "process_inkml_files(input_folder, output_folder, json_file)"
   ]
  }
 ],
 "metadata": {
  "language_info": {
   "name": "python"
  }
 },
 "nbformat": 4,
 "nbformat_minor": 2
}
